{
 "cells": [
  {
   "cell_type": "markdown",
   "metadata": {},
   "source": [
    "### Import Libraries and Load Dataset"
   ]
  },
  {
   "cell_type": "code",
   "execution_count": 2,
   "metadata": {
    "_cell_guid": "b1076dfc-b9ad-4769-8c92-a6c4dae69d19",
    "_uuid": "8f2839f25d086af736a60e9eeb907d3b93b6e0e5",
    "execution": {
     "iopub.execute_input": "2025-01-13T16:43:41.755090Z",
     "iopub.status.busy": "2025-01-13T16:43:41.754306Z",
     "iopub.status.idle": "2025-01-13T16:44:06.330833Z",
     "shell.execute_reply": "2025-01-13T16:44:06.330121Z",
     "shell.execute_reply.started": "2025-01-13T16:43:41.755054Z"
    },
    "trusted": true
   },
   "outputs": [
    {
     "data": {
      "application/vnd.jupyter.widget-view+json": {
       "model_id": "e8e31319822c46fa8038d1c7ac4784f6",
       "version_major": 2,
       "version_minor": 0
      },
      "text/plain": [
       "Downloading readme:   0%|          | 0.00/578 [00:00<?, ?B/s]"
      ]
     },
     "metadata": {},
     "output_type": "display_data"
    },
    {
     "data": {
      "application/vnd.jupyter.widget-view+json": {
       "model_id": "a0c5d8ecfaac445daba38f1e11281a7e",
       "version_major": 2,
       "version_minor": 0
      },
      "text/plain": [
       "Downloading data:   0%|          | 0.00/811k [00:00<?, ?B/s]"
      ]
     },
     "metadata": {},
     "output_type": "display_data"
    },
    {
     "data": {
      "application/vnd.jupyter.widget-view+json": {
       "model_id": "20486fae97d9438eb3ffb9c13c2ed90e",
       "version_major": 2,
       "version_minor": 0
      },
      "text/plain": [
       "Downloading data:   0%|          | 0.00/106k [00:00<?, ?B/s]"
      ]
     },
     "metadata": {},
     "output_type": "display_data"
    },
    {
     "data": {
      "application/vnd.jupyter.widget-view+json": {
       "model_id": "74ff188870cd45f6980f5d86bb579faa",
       "version_major": 2,
       "version_minor": 0
      },
      "text/plain": [
       "Downloading data:   0%|          | 0.00/109k [00:00<?, ?B/s]"
      ]
     },
     "metadata": {},
     "output_type": "display_data"
    },
    {
     "data": {
      "application/vnd.jupyter.widget-view+json": {
       "model_id": "b6f6c02fa9c14d869f786882a568d5a6",
       "version_major": 2,
       "version_minor": 0
      },
      "text/plain": [
       "Generating train split:   0%|          | 0/3827 [00:00<?, ? examples/s]"
      ]
     },
     "metadata": {},
     "output_type": "display_data"
    },
    {
     "data": {
      "application/vnd.jupyter.widget-view+json": {
       "model_id": "3caef82b2c1c4c238284e717238f3ed6",
       "version_major": 2,
       "version_minor": 0
      },
      "text/plain": [
       "Generating val split:   0%|          | 0/478 [00:00<?, ? examples/s]"
      ]
     },
     "metadata": {},
     "output_type": "display_data"
    },
    {
     "data": {
      "application/vnd.jupyter.widget-view+json": {
       "model_id": "f290da59f2ff46129f482296d1244ed1",
       "version_major": 2,
       "version_minor": 0
      },
      "text/plain": [
       "Generating test split:   0%|          | 0/479 [00:00<?, ? examples/s]"
      ]
     },
     "metadata": {},
     "output_type": "display_data"
    },
    {
     "data": {
      "application/vnd.jupyter.widget-view+json": {
       "model_id": "a08e3b53ff0043a9ad3e83e33c8d8cc6",
       "version_major": 2,
       "version_minor": 0
      },
      "text/plain": [
       "Downloading builder script:   0%|          | 0.00/6.34k [00:00<?, ?B/s]"
      ]
     },
     "metadata": {},
     "output_type": "display_data"
    }
   ],
   "source": [
    "import torch\n",
    "from transformers import DistilBertTokenizerFast, DistilBertForTokenClassification, DataCollatorForTokenClassification\n",
    "from transformers import Trainer, TrainingArguments\n",
    "from transformers import EarlyStoppingCallback\n",
    "from datasets import load_dataset, Dataset\n",
    "import evaluate\n",
    "\n",
    "# Load dataset\n",
    "dataset = load_dataset(\"telord/mountains-ner-dataset\")\n",
    "\n",
    "# Load seqeval for evaluation\n",
    "seqeval = evaluate.load(\"seqeval\")"
   ]
  },
  {
   "cell_type": "markdown",
   "metadata": {},
   "source": [
    "### Tokenizing the Data"
   ]
  },
  {
   "cell_type": "code",
   "execution_count": 3,
   "metadata": {
    "execution": {
     "iopub.execute_input": "2025-01-13T16:44:06.333078Z",
     "iopub.status.busy": "2025-01-13T16:44:06.332270Z",
     "iopub.status.idle": "2025-01-13T16:44:08.540517Z",
     "shell.execute_reply": "2025-01-13T16:44:08.539799Z",
     "shell.execute_reply.started": "2025-01-13T16:44:06.333049Z"
    },
    "trusted": true
   },
   "outputs": [
    {
     "data": {
      "application/vnd.jupyter.widget-view+json": {
       "model_id": "26fe05c2bd7e487b9421b406c468c3e8",
       "version_major": 2,
       "version_minor": 0
      },
      "text/plain": [
       "tokenizer_config.json:   0%|          | 0.00/49.0 [00:00<?, ?B/s]"
      ]
     },
     "metadata": {},
     "output_type": "display_data"
    },
    {
     "data": {
      "application/vnd.jupyter.widget-view+json": {
       "model_id": "5782913d73484516846048e1d4dbbf45",
       "version_major": 2,
       "version_minor": 0
      },
      "text/plain": [
       "vocab.txt:   0%|          | 0.00/213k [00:00<?, ?B/s]"
      ]
     },
     "metadata": {},
     "output_type": "display_data"
    },
    {
     "data": {
      "application/vnd.jupyter.widget-view+json": {
       "model_id": "768ab8eaeedf4e3da6d1c7fa0d118348",
       "version_major": 2,
       "version_minor": 0
      },
      "text/plain": [
       "tokenizer.json:   0%|          | 0.00/436k [00:00<?, ?B/s]"
      ]
     },
     "metadata": {},
     "output_type": "display_data"
    },
    {
     "data": {
      "application/vnd.jupyter.widget-view+json": {
       "model_id": "662f141c517348098ded352767774fb6",
       "version_major": 2,
       "version_minor": 0
      },
      "text/plain": [
       "config.json:   0%|          | 0.00/465 [00:00<?, ?B/s]"
      ]
     },
     "metadata": {},
     "output_type": "display_data"
    },
    {
     "name": "stderr",
     "output_type": "stream",
     "text": [
      "/opt/conda/lib/python3.10/site-packages/transformers/tokenization_utils_base.py:1601: FutureWarning: `clean_up_tokenization_spaces` was not set. It will be set to `True` by default. This behavior will be depracted in transformers v4.45, and will be then set to `False` by default. For more details check this issue: https://github.com/huggingface/transformers/issues/31884\n",
      "  warnings.warn(\n"
     ]
    },
    {
     "data": {
      "application/vnd.jupyter.widget-view+json": {
       "model_id": "1ef2d8a64e5b4a1aa844491956f89e4c",
       "version_major": 2,
       "version_minor": 0
      },
      "text/plain": [
       "Map:   0%|          | 0/3827 [00:00<?, ? examples/s]"
      ]
     },
     "metadata": {},
     "output_type": "display_data"
    },
    {
     "data": {
      "application/vnd.jupyter.widget-view+json": {
       "model_id": "da65205e9cd54d30b720df377e696806",
       "version_major": 2,
       "version_minor": 0
      },
      "text/plain": [
       "Map:   0%|          | 0/478 [00:00<?, ? examples/s]"
      ]
     },
     "metadata": {},
     "output_type": "display_data"
    },
    {
     "data": {
      "application/vnd.jupyter.widget-view+json": {
       "model_id": "0d2570213c274a07a364e3b24124ea65",
       "version_major": 2,
       "version_minor": 0
      },
      "text/plain": [
       "Map:   0%|          | 0/479 [00:00<?, ? examples/s]"
      ]
     },
     "metadata": {},
     "output_type": "display_data"
    }
   ],
   "source": [
    "# Load the fast tokenizer\n",
    "tokenizer = DistilBertTokenizerFast.from_pretrained('distilbert-base-cased')\n",
    "\n",
    "label_all_tokens = True \n",
    "\n",
    "def tokenize_and_align_labels(examples):\n",
    "    tokenized_inputs = tokenizer(examples['tokens'], truncation=True, is_split_into_words=True)\n",
    "    labels = []\n",
    "    for i, label in enumerate(examples['labels']):\n",
    "        word_ids = tokenized_inputs.word_ids(batch_index=i)\n",
    "        label_ids = []\n",
    "        previous_word_idx = None\n",
    "        for word_idx in word_ids:\n",
    "            if word_idx is None:\n",
    "                label_ids.append(-100)\n",
    "            elif word_idx != previous_word_idx:\n",
    "                label_ids.append(label[word_idx])\n",
    "            else:\n",
    "                label_ids.append(label[word_idx] if label_all_tokens else -100)\n",
    "            previous_word_idx = word_idx\n",
    "        labels.append(label_ids)\n",
    "    \n",
    "    tokenized_inputs[\"labels\"] = labels\n",
    "    return tokenized_inputs\n",
    "\n",
    "# Apply tokenization and alignment to the dataset\n",
    "tokenized_datasets = dataset.map(tokenize_and_align_labels, batched=True)"
   ]
  },
  {
   "cell_type": "code",
   "execution_count": 4,
   "metadata": {
    "execution": {
     "iopub.execute_input": "2025-01-13T16:44:08.542326Z",
     "iopub.status.busy": "2025-01-13T16:44:08.541806Z",
     "iopub.status.idle": "2025-01-13T16:44:08.549440Z",
     "shell.execute_reply": "2025-01-13T16:44:08.548631Z",
     "shell.execute_reply.started": "2025-01-13T16:44:08.542283Z"
    },
    "trusted": true
   },
   "outputs": [
    {
     "data": {
      "text/plain": [
       "Dataset({\n",
       "    features: ['sentence', 'tokens', 'labels', 'input_ids', 'attention_mask'],\n",
       "    num_rows: 3827\n",
       "})"
      ]
     },
     "execution_count": 4,
     "metadata": {},
     "output_type": "execute_result"
    }
   ],
   "source": [
    "tokenized_datasets['train']"
   ]
  },
  {
   "cell_type": "markdown",
   "metadata": {},
   "source": [
    "### Define the Model"
   ]
  },
  {
   "cell_type": "code",
   "execution_count": 5,
   "metadata": {
    "execution": {
     "iopub.execute_input": "2025-01-13T16:44:08.551829Z",
     "iopub.status.busy": "2025-01-13T16:44:08.551583Z",
     "iopub.status.idle": "2025-01-13T16:44:08.566573Z",
     "shell.execute_reply": "2025-01-13T16:44:08.565737Z",
     "shell.execute_reply.started": "2025-01-13T16:44:08.551805Z"
    },
    "trusted": true
   },
   "outputs": [
    {
     "name": "stdout",
     "output_type": "stream",
     "text": [
      "label2id: {'O': 0, 'B-mountain': 1, 'I-mountain': 2}\n",
      "id2label: {0: 'O', 1: 'B-mountain', 2: 'I-mountain'}\n"
     ]
    }
   ],
   "source": [
    "# Define label list for mountain NER\n",
    "label_list = [\"O\", \"B-mountain\", \"I-mountain\"]\n",
    "\n",
    "# Creating label2id and id2label mappings\n",
    "label2id = {label: idx for idx, label in enumerate(label_list)}\n",
    "id2label = {idx: label for idx, label in enumerate(label_list)}\n",
    "\n",
    "# Output the mappings\n",
    "print(\"label2id:\", label2id)\n",
    "print(\"id2label:\", id2label)"
   ]
  },
  {
   "cell_type": "code",
   "execution_count": 6,
   "metadata": {
    "execution": {
     "iopub.execute_input": "2025-01-13T16:44:08.567953Z",
     "iopub.status.busy": "2025-01-13T16:44:08.567683Z",
     "iopub.status.idle": "2025-01-13T16:44:10.311122Z",
     "shell.execute_reply": "2025-01-13T16:44:10.310249Z",
     "shell.execute_reply.started": "2025-01-13T16:44:08.567913Z"
    },
    "trusted": true
   },
   "outputs": [
    {
     "data": {
      "application/vnd.jupyter.widget-view+json": {
       "model_id": "191357fe1fd94460abea96355c73a3f1",
       "version_major": 2,
       "version_minor": 0
      },
      "text/plain": [
       "model.safetensors:   0%|          | 0.00/263M [00:00<?, ?B/s]"
      ]
     },
     "metadata": {},
     "output_type": "display_data"
    },
    {
     "name": "stderr",
     "output_type": "stream",
     "text": [
      "Some weights of DistilBertForTokenClassification were not initialized from the model checkpoint at distilbert-base-cased and are newly initialized: ['classifier.bias', 'classifier.weight']\n",
      "You should probably TRAIN this model on a down-stream task to be able to use it for predictions and inference.\n"
     ]
    }
   ],
   "source": [
    "# Load the DistilBERT model for token classification\n",
    "model = DistilBertForTokenClassification.from_pretrained(\n",
    "    'distilbert-base-cased',\n",
    "    num_labels=len(label_list),\n",
    "    id2label=id2label,\n",
    "    label2id=label2id\n",
    ")"
   ]
  },
  {
   "cell_type": "markdown",
   "metadata": {},
   "source": [
    "### Define Metrics"
   ]
  },
  {
   "cell_type": "code",
   "execution_count": 7,
   "metadata": {
    "execution": {
     "iopub.execute_input": "2025-01-13T16:44:10.313091Z",
     "iopub.status.busy": "2025-01-13T16:44:10.312425Z",
     "iopub.status.idle": "2025-01-13T16:44:10.319158Z",
     "shell.execute_reply": "2025-01-13T16:44:10.318235Z",
     "shell.execute_reply.started": "2025-01-13T16:44:10.313049Z"
    },
    "trusted": true
   },
   "outputs": [],
   "source": [
    "def compute_metrics(p):\n",
    "    predictions, labels = p\n",
    "    predictions = predictions.argmax(axis=2)\n",
    "    \n",
    "    # Remove ignored index (special tokens)\n",
    "    true_predictions = [\n",
    "        [label_list[p] for (p, l) in zip(prediction, label) if l != -100]\n",
    "        for prediction, label in zip(predictions, labels)\n",
    "    ]\n",
    "    true_labels = [\n",
    "        [label_list[l] for (p, l) in zip(prediction, label) if l != -100]\n",
    "        for prediction, label in zip(predictions, labels)\n",
    "    ]\n",
    "    \n",
    "    results = seqeval.compute(predictions=true_predictions, references=true_labels)\n",
    "    return {\n",
    "        \"precision\": results[\"overall_precision\"],\n",
    "        \"recall\": results[\"overall_recall\"],\n",
    "        \"f1\": results[\"overall_f1\"],\n",
    "        \"accuracy\": results[\"overall_accuracy\"],\n",
    "    }"
   ]
  },
  {
   "cell_type": "markdown",
   "metadata": {},
   "source": [
    "### Seting Up Training Arguments"
   ]
  },
  {
   "cell_type": "code",
   "execution_count": 8,
   "metadata": {
    "execution": {
     "iopub.execute_input": "2025-01-13T16:44:10.320444Z",
     "iopub.status.busy": "2025-01-13T16:44:10.320171Z",
     "iopub.status.idle": "2025-01-13T16:44:10.398281Z",
     "shell.execute_reply": "2025-01-13T16:44:10.397422Z",
     "shell.execute_reply.started": "2025-01-13T16:44:10.320419Z"
    },
    "trusted": true
   },
   "outputs": [],
   "source": [
    "training_args = TrainingArguments(\n",
    "    output_dir='./results',\n",
    "    eval_strategy='epoch',\n",
    "    save_strategy=\"epoch\",\n",
    "    learning_rate=2e-5,\n",
    "    per_device_train_batch_size=32,\n",
    "    per_device_eval_batch_size=64,\n",
    "    num_train_epochs=15,\n",
    "    weight_decay=0.01,\n",
    "    save_total_limit=1,\n",
    "    logging_dir='./logs',\n",
    "    logging_steps=10,\n",
    "    load_best_model_at_end=True,  # Load the best model at the end of training\n",
    "    metric_for_best_model=\"accuracy\",  # Metric to track for early stopping\n",
    "    greater_is_better=True,  # Whether higher metric values indicate better performance\n",
    ")\n"
   ]
  },
  {
   "cell_type": "code",
   "execution_count": 9,
   "metadata": {
    "execution": {
     "iopub.execute_input": "2025-01-13T16:44:10.399606Z",
     "iopub.status.busy": "2025-01-13T16:44:10.399304Z",
     "iopub.status.idle": "2025-01-13T16:44:10.403393Z",
     "shell.execute_reply": "2025-01-13T16:44:10.402498Z",
     "shell.execute_reply.started": "2025-01-13T16:44:10.399580Z"
    },
    "trusted": true
   },
   "outputs": [],
   "source": [
    "early_stopping = EarlyStoppingCallback(early_stopping_patience=3)"
   ]
  },
  {
   "cell_type": "markdown",
   "metadata": {},
   "source": [
    "### Data Collator for Token Classification"
   ]
  },
  {
   "cell_type": "code",
   "execution_count": 10,
   "metadata": {
    "execution": {
     "iopub.execute_input": "2025-01-13T16:44:10.404650Z",
     "iopub.status.busy": "2025-01-13T16:44:10.404381Z",
     "iopub.status.idle": "2025-01-13T16:44:10.411976Z",
     "shell.execute_reply": "2025-01-13T16:44:10.411272Z",
     "shell.execute_reply.started": "2025-01-13T16:44:10.404616Z"
    },
    "trusted": true
   },
   "outputs": [],
   "source": [
    "# Use DataCollatorForTokenClassification for dynamic padding and batching\n",
    "data_collator = DataCollatorForTokenClassification(tokenizer=tokenizer)"
   ]
  },
  {
   "cell_type": "markdown",
   "metadata": {},
   "source": [
    "### Initializing Trainer"
   ]
  },
  {
   "cell_type": "code",
   "execution_count": 11,
   "metadata": {
    "execution": {
     "iopub.execute_input": "2025-01-13T16:44:10.414596Z",
     "iopub.status.busy": "2025-01-13T16:44:10.414256Z",
     "iopub.status.idle": "2025-01-13T16:44:11.615842Z",
     "shell.execute_reply": "2025-01-13T16:44:11.615140Z",
     "shell.execute_reply.started": "2025-01-13T16:44:10.414558Z"
    },
    "trusted": true
   },
   "outputs": [],
   "source": [
    "trainer = Trainer(\n",
    "    model=model,\n",
    "    args=training_args,\n",
    "    train_dataset=tokenized_datasets['train'],\n",
    "    eval_dataset=tokenized_datasets['val'],\n",
    "    tokenizer=tokenizer,\n",
    "    compute_metrics=compute_metrics,\n",
    "    data_collator=data_collator,\n",
    "    callbacks=[early_stopping],\n",
    ")"
   ]
  },
  {
   "cell_type": "markdown",
   "metadata": {},
   "source": [
    "### Training the Model"
   ]
  },
  {
   "cell_type": "code",
   "execution_count": 12,
   "metadata": {
    "execution": {
     "iopub.execute_input": "2025-01-13T16:44:11.617053Z",
     "iopub.status.busy": "2025-01-13T16:44:11.616797Z",
     "iopub.status.idle": "2025-01-13T16:44:11.623455Z",
     "shell.execute_reply": "2025-01-13T16:44:11.622732Z",
     "shell.execute_reply.started": "2025-01-13T16:44:11.617027Z"
    },
    "trusted": true
   },
   "outputs": [],
   "source": [
    "# Use GPU if available\n",
    "device = torch.device(\"cuda\") if torch.cuda.is_available() else torch.device(\"cpu\")\n",
    "model.to(device);"
   ]
  },
  {
   "cell_type": "code",
   "execution_count": 13,
   "metadata": {
    "execution": {
     "iopub.execute_input": "2025-01-13T16:44:11.624608Z",
     "iopub.status.busy": "2025-01-13T16:44:11.624309Z",
     "iopub.status.idle": "2025-01-13T16:47:13.563929Z",
     "shell.execute_reply": "2025-01-13T16:47:13.562812Z",
     "shell.execute_reply.started": "2025-01-13T16:44:11.624583Z"
    },
    "trusted": true
   },
   "outputs": [
    {
     "name": "stderr",
     "output_type": "stream",
     "text": [
      "\u001b[34m\u001b[1mwandb\u001b[0m: \u001b[33mWARNING\u001b[0m The `run_name` is currently set to the same value as `TrainingArguments.output_dir`. If this was not intended, please specify a different run name by setting the `TrainingArguments.run_name` parameter.\n",
      "\u001b[34m\u001b[1mwandb\u001b[0m: Logging into wandb.ai. (Learn how to deploy a W&B server locally: https://wandb.me/wandb-server)\n",
      "\u001b[34m\u001b[1mwandb\u001b[0m: You can find your API key in your browser here: https://wandb.ai/authorize\n",
      "\u001b[34m\u001b[1mwandb\u001b[0m: Paste an API key from your profile and hit enter, or press ctrl+c to quit:"
     ]
    },
    {
     "name": "stdout",
     "output_type": "stream",
     "text": [
      "  ········\n"
     ]
    },
    {
     "name": "stderr",
     "output_type": "stream",
     "text": [
      "\u001b[34m\u001b[1mwandb\u001b[0m: Appending key for api.wandb.ai to your netrc file: /root/.netrc\n"
     ]
    },
    {
     "data": {
      "text/html": [
       "wandb version 0.19.2 is available!  To upgrade, please run:\n",
       " $ pip install wandb --upgrade"
      ],
      "text/plain": [
       "<IPython.core.display.HTML object>"
      ]
     },
     "metadata": {},
     "output_type": "display_data"
    },
    {
     "data": {
      "text/html": [
       "Tracking run with wandb version 0.17.7"
      ],
      "text/plain": [
       "<IPython.core.display.HTML object>"
      ]
     },
     "metadata": {},
     "output_type": "display_data"
    },
    {
     "data": {
      "text/html": [
       "Run data is saved locally in <code>/kaggle/working/wandb/run-20250113_164443-89f7otsc</code>"
      ],
      "text/plain": [
       "<IPython.core.display.HTML object>"
      ]
     },
     "metadata": {},
     "output_type": "display_data"
    },
    {
     "data": {
      "text/html": [
       "Syncing run <strong><a href='https://wandb.ai/volodymyr_matus-no-company/huggingface/runs/89f7otsc' target=\"_blank\">./results</a></strong> to <a href='https://wandb.ai/volodymyr_matus-no-company/huggingface' target=\"_blank\">Weights & Biases</a> (<a href='https://wandb.me/run' target=\"_blank\">docs</a>)<br/>"
      ],
      "text/plain": [
       "<IPython.core.display.HTML object>"
      ]
     },
     "metadata": {},
     "output_type": "display_data"
    },
    {
     "data": {
      "text/html": [
       " View project at <a href='https://wandb.ai/volodymyr_matus-no-company/huggingface' target=\"_blank\">https://wandb.ai/volodymyr_matus-no-company/huggingface</a>"
      ],
      "text/plain": [
       "<IPython.core.display.HTML object>"
      ]
     },
     "metadata": {},
     "output_type": "display_data"
    },
    {
     "data": {
      "text/html": [
       " View run at <a href='https://wandb.ai/volodymyr_matus-no-company/huggingface/runs/89f7otsc' target=\"_blank\">https://wandb.ai/volodymyr_matus-no-company/huggingface/runs/89f7otsc</a>"
      ],
      "text/plain": [
       "<IPython.core.display.HTML object>"
      ]
     },
     "metadata": {},
     "output_type": "display_data"
    },
    {
     "data": {
      "text/html": [
       "\n",
       "    <div>\n",
       "      \n",
       "      <progress value='840' max='1800' style='width:300px; height:20px; vertical-align: middle;'></progress>\n",
       "      [ 840/1800 02:13 < 02:32, 6.30 it/s, Epoch 7/15]\n",
       "    </div>\n",
       "    <table border=\"1\" class=\"dataframe\">\n",
       "  <thead>\n",
       " <tr style=\"text-align: left;\">\n",
       "      <th>Epoch</th>\n",
       "      <th>Training Loss</th>\n",
       "      <th>Validation Loss</th>\n",
       "      <th>Precision</th>\n",
       "      <th>Recall</th>\n",
       "      <th>F1</th>\n",
       "      <th>Accuracy</th>\n",
       "    </tr>\n",
       "  </thead>\n",
       "  <tbody>\n",
       "    <tr>\n",
       "      <td>1</td>\n",
       "      <td>0.130900</td>\n",
       "      <td>0.106060</td>\n",
       "      <td>0.590625</td>\n",
       "      <td>0.747036</td>\n",
       "      <td>0.659686</td>\n",
       "      <td>0.960875</td>\n",
       "    </tr>\n",
       "    <tr>\n",
       "      <td>2</td>\n",
       "      <td>0.061900</td>\n",
       "      <td>0.080223</td>\n",
       "      <td>0.738386</td>\n",
       "      <td>0.795784</td>\n",
       "      <td>0.766011</td>\n",
       "      <td>0.972138</td>\n",
       "    </tr>\n",
       "    <tr>\n",
       "      <td>3</td>\n",
       "      <td>0.056200</td>\n",
       "      <td>0.084651</td>\n",
       "      <td>0.802721</td>\n",
       "      <td>0.777339</td>\n",
       "      <td>0.789826</td>\n",
       "      <td>0.973521</td>\n",
       "    </tr>\n",
       "    <tr>\n",
       "      <td>4</td>\n",
       "      <td>0.041900</td>\n",
       "      <td>0.084558</td>\n",
       "      <td>0.795892</td>\n",
       "      <td>0.816864</td>\n",
       "      <td>0.806242</td>\n",
       "      <td>0.975761</td>\n",
       "    </tr>\n",
       "    <tr>\n",
       "      <td>5</td>\n",
       "      <td>0.020500</td>\n",
       "      <td>0.093601</td>\n",
       "      <td>0.780976</td>\n",
       "      <td>0.822134</td>\n",
       "      <td>0.801027</td>\n",
       "      <td>0.975102</td>\n",
       "    </tr>\n",
       "    <tr>\n",
       "      <td>6</td>\n",
       "      <td>0.025600</td>\n",
       "      <td>0.098681</td>\n",
       "      <td>0.777506</td>\n",
       "      <td>0.837945</td>\n",
       "      <td>0.806595</td>\n",
       "      <td>0.975168</td>\n",
       "    </tr>\n",
       "    <tr>\n",
       "      <td>7</td>\n",
       "      <td>0.011700</td>\n",
       "      <td>0.110843</td>\n",
       "      <td>0.812000</td>\n",
       "      <td>0.802372</td>\n",
       "      <td>0.807157</td>\n",
       "      <td>0.975234</td>\n",
       "    </tr>\n",
       "  </tbody>\n",
       "</table><p>"
      ],
      "text/plain": [
       "<IPython.core.display.HTML object>"
      ]
     },
     "metadata": {},
     "output_type": "display_data"
    },
    {
     "data": {
      "text/plain": [
       "TrainOutput(global_step=840, training_loss=0.061114613556613524, metrics={'train_runtime': 181.2013, 'train_samples_per_second': 316.802, 'train_steps_per_second': 9.934, 'total_flos': 579190305903750.0, 'train_loss': 0.061114613556613524, 'epoch': 7.0})"
      ]
     },
     "execution_count": 13,
     "metadata": {},
     "output_type": "execute_result"
    }
   ],
   "source": [
    "trainer.train()"
   ]
  },
  {
   "cell_type": "markdown",
   "metadata": {},
   "source": [
    "### Saving the Model"
   ]
  },
  {
   "cell_type": "code",
   "execution_count": 14,
   "metadata": {
    "execution": {
     "iopub.execute_input": "2025-01-13T16:47:13.566776Z",
     "iopub.status.busy": "2025-01-13T16:47:13.566432Z",
     "iopub.status.idle": "2025-01-13T16:47:14.213557Z",
     "shell.execute_reply": "2025-01-13T16:47:14.212600Z",
     "shell.execute_reply.started": "2025-01-13T16:47:13.566748Z"
    },
    "trusted": true
   },
   "outputs": [
    {
     "data": {
      "text/plain": [
       "('./ner_model/tokenizer_config.json',\n",
       " './ner_model/special_tokens_map.json',\n",
       " './ner_model/vocab.txt',\n",
       " './ner_model/added_tokens.json',\n",
       " './ner_model/tokenizer.json')"
      ]
     },
     "execution_count": 14,
     "metadata": {},
     "output_type": "execute_result"
    }
   ],
   "source": [
    "model.save_pretrained('./ner_model')\n",
    "tokenizer.save_pretrained('./ner_model')"
   ]
  },
  {
   "cell_type": "markdown",
   "metadata": {},
   "source": [
    "### Eval on test"
   ]
  },
  {
   "cell_type": "code",
   "execution_count": 15,
   "metadata": {
    "execution": {
     "iopub.execute_input": "2025-01-13T16:47:14.215177Z",
     "iopub.status.busy": "2025-01-13T16:47:14.214798Z",
     "iopub.status.idle": "2025-01-13T16:47:15.237721Z",
     "shell.execute_reply": "2025-01-13T16:47:15.236901Z",
     "shell.execute_reply.started": "2025-01-13T16:47:14.215147Z"
    },
    "trusted": true
   },
   "outputs": [
    {
     "data": {
      "text/html": [
       "\n",
       "    <div>\n",
       "      \n",
       "      <progress value='8' max='8' style='width:300px; height:20px; vertical-align: middle;'></progress>\n",
       "      [8/8 00:00]\n",
       "    </div>\n",
       "    "
      ],
      "text/plain": [
       "<IPython.core.display.HTML object>"
      ]
     },
     "metadata": {},
     "output_type": "display_data"
    },
    {
     "name": "stdout",
     "output_type": "stream",
     "text": [
      "Test set evaluation results:\n",
      "eval_loss: 0.0903\n",
      "eval_precision: 0.8028\n",
      "eval_recall: 0.8085\n",
      "eval_f1: 0.8056\n",
      "eval_accuracy: 0.9731\n",
      "eval_runtime: 1.0102\n",
      "eval_samples_per_second: 474.1840\n",
      "eval_steps_per_second: 7.9200\n",
      "epoch: 7.0000\n"
     ]
    }
   ],
   "source": [
    "test_dataset = tokenized_datasets['test']\n",
    "\n",
    "# Evaluate the model on the test set\n",
    "test_results = trainer.evaluate(test_dataset)\n",
    "\n",
    "# Print the results\n",
    "print(\"Test set evaluation results:\")\n",
    "for key, value in test_results.items():\n",
    "    print(f\"{key}: {value:.4f}\")"
   ]
  },
  {
   "cell_type": "markdown",
   "metadata": {},
   "source": [
    "### Run Inference"
   ]
  },
  {
   "cell_type": "code",
   "execution_count": 16,
   "metadata": {
    "execution": {
     "iopub.execute_input": "2025-01-13T16:47:15.239278Z",
     "iopub.status.busy": "2025-01-13T16:47:15.238912Z",
     "iopub.status.idle": "2025-01-13T16:47:15.244753Z",
     "shell.execute_reply": "2025-01-13T16:47:15.243912Z",
     "shell.execute_reply.started": "2025-01-13T16:47:15.239237Z"
    },
    "trusted": true
   },
   "outputs": [],
   "source": [
    "def predict(text):\n",
    "    tokens = tokenizer(text, truncation=True, padding=True, return_tensors=\"pt\")\n",
    "    tokens = {key: val.to(device) for key, val in tokens.items()}  # Move tokens to GPU if available\n",
    "    output = model(**tokens)\n",
    "    logits = output.logits\n",
    "    predictions = torch.argmax(logits, dim=2)\n",
    "    return predictions\n"
   ]
  },
  {
   "cell_type": "code",
   "execution_count": 17,
   "metadata": {
    "execution": {
     "iopub.execute_input": "2025-01-13T16:47:15.246085Z",
     "iopub.status.busy": "2025-01-13T16:47:15.245841Z",
     "iopub.status.idle": "2025-01-13T16:47:15.294041Z",
     "shell.execute_reply": "2025-01-13T16:47:15.292613Z",
     "shell.execute_reply.started": "2025-01-13T16:47:15.246061Z"
    },
    "trusted": true
   },
   "outputs": [
    {
     "name": "stdout",
     "output_type": "stream",
     "text": [
      "tensor([[0, 0, 1, 1, 2, 0, 0, 0, 0, 0, 0]], device='cuda:0')\n"
     ]
    }
   ],
   "source": [
    "text = \"At Heartbreak Hill the field thinned.\"\n",
    "predictions = predict(text)\n",
    "print(predictions)"
   ]
  },
  {
   "cell_type": "code",
   "execution_count": 18,
   "metadata": {
    "execution": {
     "iopub.execute_input": "2025-01-13T16:47:15.295769Z",
     "iopub.status.busy": "2025-01-13T16:47:15.295334Z",
     "iopub.status.idle": "2025-01-13T16:47:15.303508Z",
     "shell.execute_reply": "2025-01-13T16:47:15.302515Z",
     "shell.execute_reply.started": "2025-01-13T16:47:15.295722Z"
    },
    "trusted": true
   },
   "outputs": [],
   "source": [
    "#Formating inference results to better interpretable\n",
    "def format_inference_results(text, predictions, tokenizer, id2label):\n",
    "    # Tokenize input text to get the tokenization alignment\n",
    "    tokens = tokenizer(text, truncation=True, padding=True, return_tensors=\"pt\")\n",
    "    tokens_decoded = tokenizer.convert_ids_to_tokens(tokens['input_ids'][0])\n",
    "    \n",
    "    # Convert predictions from tensor to list\n",
    "    predictions = predictions[0].cpu().numpy()\n",
    "    \n",
    "    # Map the predictions to the corresponding labels\n",
    "    predicted_labels = [id2label[pred] for pred in predictions]\n",
    "    \n",
    "    # Combine tokens with their corresponding labels\n",
    "    result = []\n",
    "    for token, label in zip(tokens_decoded, predicted_labels):\n",
    "        # Ignore special tokens like [CLS] and [SEP]\n",
    "        if token not in tokenizer.all_special_tokens:\n",
    "            result.append((token, label))\n",
    "    \n",
    "    return result"
   ]
  },
  {
   "cell_type": "code",
   "execution_count": 19,
   "metadata": {
    "execution": {
     "iopub.execute_input": "2025-01-13T16:47:15.305019Z",
     "iopub.status.busy": "2025-01-13T16:47:15.304664Z",
     "iopub.status.idle": "2025-01-13T16:47:15.334882Z",
     "shell.execute_reply": "2025-01-13T16:47:15.334103Z",
     "shell.execute_reply.started": "2025-01-13T16:47:15.304981Z"
    },
    "trusted": true
   },
   "outputs": [
    {
     "name": "stdout",
     "output_type": "stream",
     "text": [
      "Tree: O\n",
      "##top: O\n",
      "##s: O\n",
      "Hotel: O\n",
      "is: O\n",
      "a: O\n",
      "hotel: O\n",
      "in: O\n",
      "Abe: O\n",
      "##rda: O\n",
      "##re: O\n",
      "National: O\n",
      "Park: O\n",
      "in: O\n",
      "Kenya: O\n",
      "near: O\n",
      "the: O\n",
      "township: O\n",
      "of: O\n",
      "N: O\n",
      "##yer: O\n",
      "##i: O\n",
      ",: O\n",
      "1: O\n",
      ",: O\n",
      "96: O\n",
      "##6: O\n",
      "m: O\n",
      "(: O\n",
      "6: O\n",
      ",: O\n",
      "450: O\n",
      "ft: O\n",
      "): O\n",
      "above: O\n",
      "sea: O\n",
      "level: O\n",
      "on: O\n",
      "the: O\n",
      "Abe: B-mountain\n",
      "##rda: B-mountain\n",
      "##re: B-mountain\n",
      "Range: I-mountain\n",
      "and: O\n",
      "in: O\n",
      "sight: O\n",
      "of: O\n",
      "Mount: B-mountain\n",
      "Kenya: I-mountain\n",
      ".: O\n"
     ]
    }
   ],
   "source": [
    "# Example usage\n",
    "text = \"Treetops Hotel is a hotel in Aberdare National Park in Kenya near the township of Nyeri , 1,966 m ( 6,450 ft ) above sea level on the Aberdare Range and in sight of Mount Kenya .\"\n",
    "tokens = tokenizer(text, truncation=True, padding=True, return_tensors=\"pt\")\n",
    "tokens = {key: val.to(device) for key, val in tokens.items()}  # Ensure tokens are on the correct device\n",
    "output = model(**tokens)\n",
    "logits = output.logits\n",
    "predictions = torch.argmax(logits, dim=2)\n",
    "\n",
    "# Call the function to format results\n",
    "formatted_results = format_inference_results(text, predictions, tokenizer, id2label)\n",
    "\n",
    "# Print the formatted results\n",
    "for token, label in formatted_results:\n",
    "    print(f\"{token}: {label}\")\n"
   ]
  }
 ],
 "metadata": {
  "kaggle": {
   "accelerator": "gpu",
   "dataSources": [],
   "dockerImageVersionId": 30761,
   "isGpuEnabled": true,
   "isInternetEnabled": true,
   "language": "python",
   "sourceType": "notebook"
  },
  "kernelspec": {
   "display_name": "task1_env",
   "language": "python",
   "name": "python3"
  },
  "language_info": {
   "codemirror_mode": {
    "name": "ipython",
    "version": 3
   },
   "file_extension": ".py",
   "mimetype": "text/x-python",
   "name": "python",
   "nbconvert_exporter": "python",
   "pygments_lexer": "ipython3",
   "version": "undefined.undefined.undefined"
  }
 },
 "nbformat": 4,
 "nbformat_minor": 4
}
